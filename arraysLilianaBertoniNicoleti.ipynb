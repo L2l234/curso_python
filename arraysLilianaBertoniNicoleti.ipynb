{
  "nbformat": 4,
  "nbformat_minor": 0,
  "metadata": {
    "colab": {
      "provenance": [],
      "authorship_tag": "ABX9TyMe0QU5qUgVfQTzU2DCE6g/",
      "include_colab_link": true
    },
    "kernelspec": {
      "name": "python3",
      "display_name": "Python 3"
    },
    "language_info": {
      "name": "python"
    }
  },
  "cells": [
    {
      "cell_type": "markdown",
      "metadata": {
        "id": "view-in-github",
        "colab_type": "text"
      },
      "source": [
        "<a href=\"https://colab.research.google.com/github/L2l234/curso_python/blob/main/arraysLilianaBertoniNicoleti.ipynb\" target=\"_parent\"><img src=\"https://colab.research.google.com/assets/colab-badge.svg\" alt=\"Open In Colab\"/></a>"
      ]
    },
    {
      "cell_type": "code",
      "execution_count": null,
      "metadata": {
        "colab": {
          "base_uri": "https://localhost:8080/"
        },
        "id": "8j2A_v2KE3OT",
        "outputId": "232075e2-480f-4fbe-8f25-e5ce8a3fad69"
      },
      "outputs": [
        {
          "output_type": "stream",
          "name": "stdout",
          "text": [
            "Requirement already satisfied: numpy in /usr/local/lib/python3.10/dist-packages (1.23.5)\n"
          ]
        }
      ],
      "source": [
        "!pip install numpy"
      ]
    },
    {
      "cell_type": "code",
      "source": [
        "import numpy as np"
      ],
      "metadata": {
        "id": "h98-sMPUGUr2"
      },
      "execution_count": null,
      "outputs": []
    },
    {
      "cell_type": "code",
      "source": [
        "#semente de reproducibilidade\n",
        "np.random.seed(10)\n",
        "#gerar array aleatório\n",
        "random_array=np.random.randint(0,100,size=100)\n",
        "#calculo de mediana\n",
        "mediana=np.median(random_array)\n",
        "#calculo de média\n",
        "media=np.mean(random_array)\n",
        "#soma\n",
        "soma=np.sum(random_array)\n",
        "#calculo de desvio padrão\n",
        "desvio_padrao=np.std(random_array)\n",
        "#calculo de variância\n",
        "variancia=np.var(random_array)\n",
        "\n",
        "#exibir resultados\n",
        "print(f'Array aleatorio é {random_array}')\n",
        "print(f'A mediana do array é {mediana}')\n",
        "print(f'A média do array é {media}')\n",
        "print(f'A soma do array é {soma}')\n",
        "print(f'O desvio padrão do array é {desvio_padrao}')\n",
        "print(f'A variância do array é{variancia}')\n"
      ],
      "metadata": {
        "colab": {
          "base_uri": "https://localhost:8080/"
        },
        "id": "iv8VT4fuGbkj",
        "outputId": "0bcb25cc-14d5-4d8e-a42a-0ed5ca133297"
      },
      "execution_count": null,
      "outputs": [
        {
          "output_type": "stream",
          "name": "stdout",
          "text": [
            "Array aleatorio é [ 9 15 64 28 89 93 29  8 73  0 40 36 16 11 54 88 62 33 72 78 49 51 54 77\n",
            " 69 13 25 13 92 86 30 30 89 12 65 31 57 36 27 18 93 77 22 23 94 11 28 74\n",
            " 88  9 15 18 80 71 88 11 17 46  7 75 28 33 84 96 88 44  5  4 71 88 88 50\n",
            " 54 34 15 77 88 15  6 85 22 11 12 92 96 62 57 79 42 57 97 50 45 40 89 73\n",
            " 37  0 18 23]\n",
            "A mediana do array é 45.5\n",
            "A média do array é 48.24\n",
            "A soma do array é 4824\n",
            "O desvio padrão do array é 30.363504409076363\n",
            "A variância do array é921.9423999999998\n"
          ]
        }
      ]
    },
    {
      "cell_type": "code",
      "source": [
        "#função para calcular fatorial\n",
        "def calcular_fatorial(numero):\n",
        "  if numero < 0 :\n",
        "    print('Não há fatorial de numero negativo ou não inteiro')\n",
        "  else:\n",
        "    numero= np.arange(1,numero+1)\n",
        "    resultado=np.prod(numero)\n",
        "    return resultado\n",
        "  #gerar numero aleatório\n",
        "numero=np.random.randint(1,50)\n",
        "resultado=calcular_fatorial(numero)\n",
        "  #imprimir o resultado\n",
        "print(f'O fatorial de {numero} é{resultado}')\n",
        "\n"
      ],
      "metadata": {
        "colab": {
          "base_uri": "https://localhost:8080/"
        },
        "id": "jetSxrIaI6bQ",
        "outputId": "6980ddd3-a688-45b5-e708-3658b759520c"
      },
      "execution_count": null,
      "outputs": [
        {
          "output_type": "stream",
          "name": "stdout",
          "text": [
            "O fatorial de 38 é4789013295250014208\n"
          ]
        }
      ]
    },
    {
      "cell_type": "code",
      "source": [
        "#função para somar os numeros de uma série\n",
        "def calcular_soma_serie(inicio,fim):\n",
        "  if fim <=inicio:\n",
        "    print(\"O fim deve ser maior que o inicio\")\n",
        "  numeros=np.arange(inicio,fim+1)\n",
        "  soma=np.sum(numeros)\n",
        "  return soma\n",
        "  #usando numpy para gerar numeros\n",
        "inicio=np.random.randint(1,10)\n",
        "fim=np.random.randint(inicio+1,20)\n",
        "resultado=calcular_soma_serie(inicio,fim)\n",
        "#imprimir resultado\n",
        "print(f'A soma da série {inicio} até {fim} é {resultado}')"
      ],
      "metadata": {
        "colab": {
          "base_uri": "https://localhost:8080/"
        },
        "id": "XXnLRQ4JOhRB",
        "outputId": "6d275c5e-d967-48f9-e66f-765cda78a055"
      },
      "execution_count": null,
      "outputs": [
        {
          "output_type": "stream",
          "name": "stdout",
          "text": [
            "A soma da série 9 até 10 é 19\n"
          ]
        }
      ]
    }
  ]
}