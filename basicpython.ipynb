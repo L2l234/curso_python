{
  "nbformat": 4,
  "nbformat_minor": 0,
  "metadata": {
    "colab": {
      "provenance": [],
      "authorship_tag": "ABX9TyMMHhQ/Rcg+k9R8XUEg05dY",
      "include_colab_link": true
    },
    "kernelspec": {
      "name": "python3",
      "display_name": "Python 3"
    },
    "language_info": {
      "name": "python"
    }
  },
  "cells": [
    {
      "cell_type": "markdown",
      "metadata": {
        "id": "view-in-github",
        "colab_type": "text"
      },
      "source": [
        "<a href=\"https://colab.research.google.com/github/L2l234/curso_python/blob/main/basicpython.ipynb\" target=\"_parent\"><img src=\"https://colab.research.google.com/assets/colab-badge.svg\" alt=\"Open In Colab\"/></a>"
      ]
    },
    {
      "cell_type": "code",
      "execution_count": 1,
      "metadata": {
        "colab": {
          "base_uri": "https://localhost:8080/"
        },
        "id": "vG-QORQC4xr2",
        "outputId": "0d625ea4-ae7e-49c6-b97a-2f844467023f"
      },
      "outputs": [
        {
          "output_type": "stream",
          "name": "stdout",
          "text": [
            "Hello,world\n"
          ]
        }
      ],
      "source": [
        "print('Hello,world')"
      ]
    },
    {
      "cell_type": "code",
      "source": [
        "#lista(colchetes e virgulas)\n",
        "#listas são mutáveis\n",
        "list=['love','amour','amor']\n",
        "print (list)"
      ],
      "metadata": {
        "colab": {
          "base_uri": "https://localhost:8080/"
        },
        "id": "seLRAiFz5wZB",
        "outputId": "f2925de7-8b98-44d2-eef5-ce99b9edba3f"
      },
      "execution_count": 3,
      "outputs": [
        {
          "output_type": "stream",
          "name": "stdout",
          "text": [
            "['love', 'amour', 'amor']\n"
          ]
        }
      ]
    },
    {
      "cell_type": "code",
      "source": [
        "list.append('Liebe')#add elemento ao final da lista\n",
        "print(list)\n",
        "list.insert(0,'Sarang')#escolhe uma posição para inserir um elemento\n",
        "element=list.pop(1)\n",
        "print(list)"
      ],
      "metadata": {
        "colab": {
          "base_uri": "https://localhost:8080/"
        },
        "id": "kh89bOy67FFZ",
        "outputId": "b2837285-e82d-4f2f-eb23-e4f5b2c23296"
      },
      "execution_count": 41,
      "outputs": [
        {
          "output_type": "stream",
          "name": "stdout",
          "text": [
            "['Sarang', 'Sarang', 'Sarang', 'Sarang', 'Sarang', 'Sarang', 'Liebe', 'amour', 'Liebe', 'Liebe', 'Liebe', 'Liebe', 'Liebe', 'Liebe', 'Liebe']\n",
            "['Sarang', 'Sarang', 'Sarang', 'Sarang', 'Sarang', 'Sarang', 'Liebe', 'amour', 'Liebe', 'Liebe', 'Liebe', 'Liebe', 'Liebe', 'Liebe', 'Liebe']\n"
          ]
        }
      ]
    },
    {
      "cell_type": "code",
      "source": [
        "list[1]='amore' #modifica elemento\n",
        "print(list)\n",
        "list.append('amour')\n",
        "print(list)\n",
        "list[2:]"
      ],
      "metadata": {
        "colab": {
          "base_uri": "https://localhost:8080/"
        },
        "id": "DErhm2_D7ddX",
        "outputId": "f71ccd2f-7c27-49a1-96cd-a588a7582026"
      },
      "execution_count": 43,
      "outputs": [
        {
          "output_type": "stream",
          "name": "stdout",
          "text": [
            "['Sarang', 'amore', 'Sarang', 'Sarang', 'Sarang', 'Sarang', 'Liebe', 'amour', 'Liebe', 'Liebe', 'Liebe', 'Liebe', 'Liebe', 'Liebe', 'Liebe', 'amour']\n",
            "['Sarang', 'amore', 'Sarang', 'Sarang', 'Sarang', 'Sarang', 'Liebe', 'amour', 'Liebe', 'Liebe', 'Liebe', 'Liebe', 'Liebe', 'Liebe', 'Liebe', 'amour', 'amour']\n"
          ]
        },
        {
          "output_type": "execute_result",
          "data": {
            "text/plain": [
              "['Sarang',\n",
              " 'Sarang',\n",
              " 'Sarang',\n",
              " 'Sarang',\n",
              " 'Liebe',\n",
              " 'amour',\n",
              " 'Liebe',\n",
              " 'Liebe',\n",
              " 'Liebe',\n",
              " 'Liebe',\n",
              " 'Liebe',\n",
              " 'Liebe',\n",
              " 'Liebe',\n",
              " 'amour',\n",
              " 'amour']"
            ]
          },
          "metadata": {},
          "execution_count": 43
        }
      ]
    },
    {
      "cell_type": "code",
      "source": [
        "del list[0]#remove um elemento da lista\n",
        "print(list)"
      ],
      "metadata": {
        "colab": {
          "base_uri": "https://localhost:8080/"
        },
        "id": "QJYGCY4_8LkW",
        "outputId": "40d9eb43-5ee5-45ce-b52d-e65345eac77a"
      },
      "execution_count": 11,
      "outputs": [
        {
          "output_type": "stream",
          "name": "stdout",
          "text": [
            "['Liebe', 'amour']\n"
          ]
        }
      ]
    },
    {
      "cell_type": "code",
      "source": [
        "#dicionários são mutáveis\n",
        "#usa-se chaves\n",
        "dictionary={'nome':'Liliana', 'idade':34, 'cidade': 'Lins'}\n",
        "\n"
      ],
      "metadata": {
        "id": "eluebiXv5hGr"
      },
      "execution_count": 47,
      "outputs": []
    },
    {
      "cell_type": "code",
      "source": [
        "print(f\"Meu nome é {dictionary['nome']}\")"
      ],
      "metadata": {
        "colab": {
          "base_uri": "https://localhost:8080/"
        },
        "id": "FS2Tw03FAm4P",
        "outputId": "50ebaffb-5c75-4eed-996d-cccf52cee4e5"
      },
      "execution_count": 49,
      "outputs": [
        {
          "output_type": "stream",
          "name": "stdout",
          "text": [
            "Meu nome é Liliana\n"
          ]
        }
      ]
    },
    {
      "cell_type": "code",
      "source": [
        "dictionary['profissão']='Cientista de Dados'#add uma nova chave\n",
        "del dictionary['cidade']#remove uma chave\n",
        "print(dictionary)\n"
      ],
      "metadata": {
        "colab": {
          "base_uri": "https://localhost:8080/"
        },
        "id": "WLHf0Qkq9k0s",
        "outputId": "8140336a-6f75-465c-d945-5f13fc4ba3ea"
      },
      "execution_count": 48,
      "outputs": [
        {
          "output_type": "stream",
          "name": "stdout",
          "text": [
            "{'nome': 'Liliana', 'idade': 34, 'profissão': 'Cientista de Dados'}\n"
          ]
        }
      ]
    },
    {
      "cell_type": "code",
      "source": [
        "#tuplas são imutáveis\n",
        "#usa-se parênteses\n",
        "tuple=('hate','love','like','dislike')\n",
        "print(tuple)\n",
        "tuple[1]#acessa um elemento\n",
        "type(tuple)"
      ],
      "metadata": {
        "colab": {
          "base_uri": "https://localhost:8080/"
        },
        "id": "ko8_ZVpy-N10",
        "outputId": "1c904602-dbe3-4a55-e726-86171916b6bf"
      },
      "execution_count": 17,
      "outputs": [
        {
          "output_type": "stream",
          "name": "stdout",
          "text": [
            "('hate', 'love', 'like', 'dislike')\n"
          ]
        },
        {
          "output_type": "execute_result",
          "data": {
            "text/plain": [
              "tuple"
            ]
          },
          "metadata": {},
          "execution_count": 17
        }
      ]
    },
    {
      "cell_type": "code",
      "source": [
        "idade='42'\n",
        "int(idade)+1"
      ],
      "metadata": {
        "colab": {
          "base_uri": "https://localhost:8080/"
        },
        "id": "3CeZW-KcBkZ7",
        "outputId": "62a6ecbd-9038-4b35-86cf-02b231f433d2"
      },
      "execution_count": 25,
      "outputs": [
        {
          "output_type": "execute_result",
          "data": {
            "text/plain": [
              "43"
            ]
          },
          "metadata": {},
          "execution_count": 25
        }
      ]
    },
    {
      "cell_type": "code",
      "source": [
        "text= \"Python is the easiest language ever\"\n",
        "text.upper()\n",
        "text.lower()\n",
        "text.replace('easiest','most difficult').replace('Python', 'C')"
      ],
      "metadata": {
        "colab": {
          "base_uri": "https://localhost:8080/",
          "height": 35
        },
        "id": "CEUvoXRAD6yo",
        "outputId": "1a54a78c-67d4-4b73-93de-dc861076d598"
      },
      "execution_count": 33,
      "outputs": [
        {
          "output_type": "execute_result",
          "data": {
            "text/plain": [
              "'C is the most difficult language ever'"
            ],
            "application/vnd.google.colaboratory.intrinsic+json": {
              "type": "string"
            }
          },
          "metadata": {},
          "execution_count": 33
        }
      ]
    }
  ]
}